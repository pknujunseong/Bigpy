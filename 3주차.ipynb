{
  "nbformat": 4,
  "nbformat_minor": 0,
  "metadata": {
    "colab": {
      "provenance": [],
      "authorship_tag": "ABX9TyOwiNGkhN3xzNuQLRLpN+1X",
      "include_colab_link": true
    },
    "kernelspec": {
      "name": "python3",
      "display_name": "Python 3"
    },
    "language_info": {
      "name": "python"
    }
  },
  "cells": [
    {
      "cell_type": "markdown",
      "metadata": {
        "id": "view-in-github",
        "colab_type": "text"
      },
      "source": [
        "<a href=\"https://colab.research.google.com/github/pknujunseong/Bigpy/blob/main/3%EC%A3%BC%EC%B0%A8.ipynb\" target=\"_parent\"><img src=\"https://colab.research.google.com/assets/colab-badge.svg\" alt=\"Open In Colab\"/></a>"
      ]
    },
    {
      "cell_type": "code",
      "execution_count": 2,
      "metadata": {
        "colab": {
          "base_uri": "https://localhost:8080/"
        },
        "id": "95qBt0cK298P",
        "outputId": "ca35298e-ed78-49c9-ed20-781a0fb7d212"
      },
      "outputs": [
        {
          "output_type": "stream",
          "name": "stdout",
          "text": [
            "Hello World\n",
            "Hello World\n",
            "Hello World\n",
            "Hello World\n",
            "Hello World\n",
            "Hello World\n",
            "Hello World\n",
            "Hello World\n",
            "Hello World\n",
            "Hello World\n"
          ]
        }
      ],
      "source": [
        "sum=0\n",
        "while sum < 10:\n",
        "  print('Hello World')\n",
        "  sum = sum+1"
      ]
    },
    {
      "cell_type": "code",
      "source": [
        "x = int(input('숫자를 입력하시오'))\n",
        "if x<5:\n",
        "  for i in range(0,5):\n",
        "    print('Hello World')"
      ],
      "metadata": {
        "colab": {
          "base_uri": "https://localhost:8080/"
        },
        "id": "RUVSH1Cb3XwA",
        "outputId": "af03ef30-cb57-41b1-af59-2ca4e008042d"
      },
      "execution_count": 4,
      "outputs": [
        {
          "output_type": "stream",
          "name": "stdout",
          "text": [
            "숫자를 입력하시오3\n",
            "Hello World\n",
            "Hello World\n",
            "Hello World\n",
            "Hello World\n",
            "Hello World\n"
          ]
        }
      ]
    },
    {
      "cell_type": "code",
      "source": [
        "s=0\n",
        "while True:\n",
        "  if s<5:\n",
        "    print('Hello World')\n",
        "    s = s+1\n",
        "  else:\n",
        "    break"
      ],
      "metadata": {
        "colab": {
          "base_uri": "https://localhost:8080/"
        },
        "id": "BnLdL9W63p7d",
        "outputId": "eda809af-9fef-4dbe-8c81-d37ea1ea3423"
      },
      "execution_count": 47,
      "outputs": [
        {
          "output_type": "stream",
          "name": "stdout",
          "text": [
            "Hello World\n",
            "Hello World\n",
            "Hello World\n",
            "Hello World\n",
            "Hello World\n"
          ]
        }
      ]
    },
    {
      "cell_type": "code",
      "source": [
        "while True:\n",
        "  for i in range(1,11,2):\n",
        "    print(i)\n",
        "  break"
      ],
      "metadata": {
        "colab": {
          "base_uri": "https://localhost:8080/"
        },
        "id": "zql6A0yf_25x",
        "outputId": "4aa539ed-0b32-4d18-8ff4-1db2e48e40c1"
      },
      "execution_count": 52,
      "outputs": [
        {
          "output_type": "stream",
          "name": "stdout",
          "text": [
            "1\n",
            "3\n",
            "5\n",
            "7\n",
            "9\n"
          ]
        }
      ]
    },
    {
      "cell_type": "code",
      "source": [
        "for i in range(2,3):\n",
        "  for j in range(0,10):\n",
        "    print(f'{i} 곱하기 {j}는 {i*j}')"
      ],
      "metadata": {
        "colab": {
          "base_uri": "https://localhost:8080/"
        },
        "id": "y0ncM3Fe34e-",
        "outputId": "efe02630-e486-439e-bef3-fd588b361e2c"
      },
      "execution_count": 48,
      "outputs": [
        {
          "output_type": "stream",
          "name": "stdout",
          "text": [
            "2 곱하기 0는 0\n",
            "2 곱하기 1는 2\n",
            "2 곱하기 2는 4\n",
            "2 곱하기 3는 6\n",
            "2 곱하기 4는 8\n",
            "2 곱하기 5는 10\n",
            "2 곱하기 6는 12\n",
            "2 곱하기 7는 14\n",
            "2 곱하기 8는 16\n",
            "2 곱하기 9는 18\n"
          ]
        }
      ]
    },
    {
      "cell_type": "code",
      "source": [
        "a = ['바나나', '사과', '수박']\n",
        "for i in a:\n",
        "  print(i)"
      ],
      "metadata": {
        "colab": {
          "base_uri": "https://localhost:8080/"
        },
        "id": "fu63oGwQ4N1t",
        "outputId": "e3cf2bcd-2774-4caa-f6a9-c14c7becf709"
      },
      "execution_count": 7,
      "outputs": [
        {
          "output_type": "stream",
          "name": "stdout",
          "text": [
            "바나나\n",
            "사과\n",
            "수박\n"
          ]
        }
      ]
    },
    {
      "cell_type": "code",
      "source": [
        "for i in range(-7,-2,1):\n",
        "  print(i)"
      ],
      "metadata": {
        "colab": {
          "base_uri": "https://localhost:8080/"
        },
        "id": "K9q2ECmb4WhV",
        "outputId": "d837893f-09dd-4d71-9c2c-63ed0e70815c"
      },
      "execution_count": 15,
      "outputs": [
        {
          "output_type": "stream",
          "name": "stdout",
          "text": [
            "-7\n",
            "-6\n",
            "-5\n",
            "-4\n",
            "-3\n"
          ]
        }
      ]
    },
    {
      "cell_type": "code",
      "source": [
        "for i in range(2,11,2):\n",
        "  print(i)"
      ],
      "metadata": {
        "colab": {
          "base_uri": "https://localhost:8080/"
        },
        "id": "n0T4gfUZ4mhY",
        "outputId": "232a958b-ed78-4737-fc65-7761423b138c"
      },
      "execution_count": 17,
      "outputs": [
        {
          "output_type": "stream",
          "name": "stdout",
          "text": [
            "2\n",
            "4\n",
            "6\n",
            "8\n",
            "10\n"
          ]
        }
      ]
    },
    {
      "cell_type": "code",
      "source": [
        "a = 'Hello world'\n",
        "for i in a:\n",
        "  print(i)"
      ],
      "metadata": {
        "colab": {
          "base_uri": "https://localhost:8080/"
        },
        "id": "oidtAGZL4rsa",
        "outputId": "005cb08c-7b83-4af6-9f17-fd29bdb87a52"
      },
      "execution_count": 19,
      "outputs": [
        {
          "output_type": "stream",
          "name": "stdout",
          "text": [
            "H\n",
            "e\n",
            "l\n",
            "l\n",
            "o\n",
            " \n",
            "w\n",
            "o\n",
            "r\n",
            "l\n",
            "d\n"
          ]
        }
      ]
    },
    {
      "cell_type": "code",
      "source": [
        "def f():\n",
        "  z = input('이름을 입력하시오')\n",
        "  return z\n",
        "\n",
        "print(f'내 이름은 {f()}입니다.')"
      ],
      "metadata": {
        "colab": {
          "base_uri": "https://localhost:8080/"
        },
        "id": "byZ-z7hf48tH",
        "outputId": "c1add4e0-5c56-4780-b56c-c2edb76b6e0d"
      },
      "execution_count": 24,
      "outputs": [
        {
          "output_type": "stream",
          "name": "stdout",
          "text": [
            "이름을 입력하시오김준성\n",
            "내 이름은 김준성입니다.\n"
          ]
        }
      ]
    },
    {
      "cell_type": "code",
      "source": [
        "a = int(input('숫자 a를 입력하시오'))\n",
        "b = int(input('숫자 b를 입력하시오'))\n",
        "print(a+b,a-b,a*b,a/b)"
      ],
      "metadata": {
        "colab": {
          "base_uri": "https://localhost:8080/"
        },
        "id": "0CAY6NmR5ge-",
        "outputId": "66616add-6696-4fe5-e242-c31fad19b1ad"
      },
      "execution_count": 26,
      "outputs": [
        {
          "output_type": "stream",
          "name": "stdout",
          "text": [
            "숫자 a를 입력하시오3\n",
            "숫자 b를 입력하시오2\n",
            "5 1 6 1.5\n"
          ]
        }
      ]
    },
    {
      "cell_type": "code",
      "source": [
        "s = 0\n",
        "while True:\n",
        "  a = int(input('숫자를 입력하시오'))\n",
        "  s = s+a\n",
        "  print(s)\n",
        "  if a < 0:\n",
        "    break\n",
        "print(s)\n"
      ],
      "metadata": {
        "colab": {
          "base_uri": "https://localhost:8080/"
        },
        "id": "9r7VNxcF5xwt",
        "outputId": "94f89a92-e494-42ff-9766-84dc45d4f156"
      },
      "execution_count": 53,
      "outputs": [
        {
          "output_type": "stream",
          "name": "stdout",
          "text": [
            "숫자를 입력하시오3\n",
            "3\n",
            "숫자를 입력하시오22\n",
            "25\n",
            "숫자를 입력하시오3\n",
            "28\n",
            "숫자를 입력하시오-1\n",
            "27\n",
            "27\n"
          ]
        }
      ]
    },
    {
      "cell_type": "code",
      "source": [
        "m=[]\n",
        "n=[]\n",
        "while True:\n",
        "  a = input('a의 리스트에 추가하시오')\n",
        "  if a == '끝':\n",
        "    break\n",
        "  m.append(a)\n",
        "  b = input('b의 리스트에 추가하시오')\n",
        "  if b == '끝':\n",
        "    break\n",
        "  n.append(b)\n",
        "print(len(m) == len(n))\n",
        "print(m)\n",
        "print(n)"
      ],
      "metadata": {
        "colab": {
          "base_uri": "https://localhost:8080/"
        },
        "id": "4lzg0xSx61_Y",
        "outputId": "047b7a99-adad-4fa3-d167-5cfd591c55a5"
      },
      "execution_count": 39,
      "outputs": [
        {
          "output_type": "stream",
          "name": "stdout",
          "text": [
            "a의 리스트에 추가하시오3\n",
            "b의 리스트에 추가하시오23\n",
            "a의 리스트에 추가하시오3\n",
            "b의 리스트에 추가하시오끝\n",
            "False\n",
            "['3', '3']\n",
            "['23']\n"
          ]
        }
      ]
    },
    {
      "cell_type": "code",
      "source": [
        "m=[]\n",
        "n=[]\n",
        "def f():\n",
        "  while True:\n",
        "    a = input('a의 리스트에 추가하시오')\n",
        "    if a == '끝':\n",
        "     break\n",
        "    m.append(a)\n",
        "    b = input('b의 리스트에 추가하시오')\n",
        "    if b == '끝':\n",
        "      break\n",
        "    n.append(b)\n",
        "  if len(m) == len(n):\n",
        "    dict(m)\n",
        "    dict(n)\n",
        "    return m,n\n",
        "f()\n",
        "print(m)\n",
        "print(n)"
      ],
      "metadata": {
        "colab": {
          "base_uri": "https://localhost:8080/"
        },
        "id": "4alKxLwW8ARO",
        "outputId": "d7b2e03a-2872-4818-f31d-082a242417d6"
      },
      "execution_count": 55,
      "outputs": [
        {
          "output_type": "stream",
          "name": "stdout",
          "text": [
            "a의 리스트에 추가하시오33\n",
            "b의 리스트에 추가하시오22\n",
            "a의 리스트에 추가하시오끝\n",
            "['33']\n",
            "['22']\n"
          ]
        }
      ]
    },
    {
      "cell_type": "code",
      "source": [
        "a = 0\n",
        "def plus():\n",
        "  global a\n",
        "  a = a+5\n",
        "plus()\n",
        "\n",
        "print(a)"
      ],
      "metadata": {
        "colab": {
          "base_uri": "https://localhost:8080/"
        },
        "id": "HFuACmez_Eqp",
        "outputId": "9242a86a-9c1f-4e91-e4f0-1129033675e2"
      },
      "execution_count": 56,
      "outputs": [
        {
          "output_type": "stream",
          "name": "stdout",
          "text": [
            "5\n"
          ]
        }
      ]
    }
  ]
}